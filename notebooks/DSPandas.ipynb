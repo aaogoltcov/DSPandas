{
 "cells": [
  {
   "cell_type": "code",
   "execution_count": 15,
   "metadata": {},
   "outputs": [],
   "source": [
    "import pandas as pd"
   ]
  },
  {
   "cell_type": "code",
   "execution_count": 16,
   "metadata": {
    "pycharm": {
     "name": "#%%\n"
    }
   },
   "outputs": [],
   "source": [
    "# Задание 1 Скачайте с сайта https://grouplens.org/datasets/movielens/ датасет любого размера. Определите какому\n",
    "# фильму было выставлено больше всего оценок 5.0."
   ]
  },
  {
   "cell_type": "code",
   "execution_count": 17,
   "metadata": {
    "pycharm": {
     "name": "#%%\n"
    }
   },
   "outputs": [
    {
     "name": "stdout",
     "output_type": "stream",
     "text": [
      "Shawshank Redemption, The (1994)\n",
      "Jurassic Park (1993)\n",
      "CPU times: user 230 ms, sys: 94.9 ms, total: 325 ms\n",
      "Wall time: 356 ms\n"
     ]
    }
   ],
   "source": [
    "%%time\n",
    "# join\n",
    "def get_first_one_movie(movies_file, rating_file, rating):\n",
    "    return pd.read_csv(movies_file).set_index('movieId').join(pd.read_csv(rating_file).set_index('movieId'), on='movieId', how='right').query(f'rating == {rating}').groupby('title').count().sort_values('rating', ascending=False).head(1).index[0]\n",
    "\n",
    "print(get_first_one_movie('movies.csv', 'ratings.csv', 5))\n",
    "print(get_first_one_movie('movies.csv', 'ratings.csv', 4))"
   ]
  },
  {
   "cell_type": "code",
   "execution_count": 18,
   "metadata": {
    "pycharm": {
     "name": "#%%\n"
    }
   },
   "outputs": [
    {
     "name": "stdout",
     "output_type": "stream",
     "text": [
      "Shawshank Redemption, The (1994)\n",
      "Jurassic Park (1993)\n",
      "CPU times: user 202 ms, sys: 55 ms, total: 257 ms\n",
      "Wall time: 267 ms\n"
     ]
    }
   ],
   "source": [
    "%%time\n",
    "# merge\n",
    "def get_first_one_movie(movies_file, rating_file, rating):\n",
    "    return pd.merge(pd.read_csv(movies_file), pd.read_csv(rating_file), on=['movieId'], how='right').query(f'rating == {rating}').groupby('title').count().sort_values('rating', ascending=False).head(1).index[0]\n",
    "\n",
    "print(get_first_one_movie('movies.csv', 'ratings.csv', 5))\n",
    "print(get_first_one_movie('movies.csv', 'ratings.csv', 4))\n"
   ]
  },
  {
   "cell_type": "code",
   "execution_count": 19,
   "metadata": {
    "pycharm": {
     "name": "#%%\n"
    }
   },
   "outputs": [
    {
     "name": "stdout",
     "output_type": "stream",
     "text": [
      "Shawshank Redemption, The (1994)\n",
      "Jurassic Park (1993)\n",
      "CPU times: user 329 ms, sys: 84.2 ms, total: 413 ms\n",
      "Wall time: 466 ms\n"
     ]
    }
   ],
   "source": [
    "%%time\n",
    "# another type of query (filter)\n",
    "def get_first_one_movie(movies_file, rating_file, rating):\n",
    "    data_frame = pd.read_csv(movies_file).set_index('movieId').join(pd.read_csv(rating_file).set_index('movieId'), on='movieId', how='right')\n",
    "    return data_frame[data_frame['rating'] == rating].groupby('title').count().sort_values('rating', ascending=False).head(1).index[0]\n",
    "\n",
    "print(get_first_one_movie('movies.csv', 'ratings.csv', 5))\n",
    "print(get_first_one_movie('movies.csv', 'ratings.csv', 4))\n"
   ]
  },
  {
   "cell_type": "code",
   "execution_count": 20,
   "metadata": {
    "pycharm": {
     "name": "#%%\n"
    }
   },
   "outputs": [
    {
     "name": "stdout",
     "output_type": "stream",
     "text": [
      "Shawshank Redemption, The (1994)\n",
      "Jurassic Park (1993)\n",
      "CPU times: user 239 ms, sys: 60.9 ms, total: 300 ms\n",
      "Wall time: 306 ms\n"
     ]
    }
   ],
   "source": [
    "%%time\n",
    "# another type of query (filter) and merger\n",
    "def get_first_one_movie(movies_file, rating_file, rating):\n",
    "    data_frame = pd.merge(pd.read_csv(movies_file), pd.read_csv(rating_file), on=['movieId'], how='right')\n",
    "    return data_frame[data_frame['rating'] == rating].groupby('title').count().sort_values('rating', ascending=False).head(1).index[0]\n",
    "\n",
    "print(get_first_one_movie('movies.csv', 'ratings.csv', 5))\n",
    "print(get_first_one_movie('movies.csv', 'ratings.csv', 4))\n",
    "\n"
   ]
  },
  {
   "cell_type": "code",
   "execution_count": 21,
   "metadata": {
    "pycharm": {
     "name": "#%%\n"
    }
   },
   "outputs": [],
   "source": [
    "# Задание 2 По данным файла power.csv посчитайте суммарное потребление стран Прибалтики (Латвия, Литва и Эстония)\n",
    "# категорий 4, 12 и 21 за период с 2005 по 2010 года. Не учитывайте в расчетах отрицательные значения quantity.\n"
   ]
  },
  {
   "cell_type": "code",
   "execution_count": 22,
   "metadata": {
    "pycharm": {
     "name": "#%%\n"
    }
   },
   "outputs": [
    {
     "name": "stdout",
     "output_type": "stream",
     "text": [
      "CPU times: user 1.75 s, sys: 106 ms, total: 1.85 s\n",
      "Wall time: 1.91 s\n"
     ]
    },
    {
     "data": {
      "text/plain": "         quantity\nsum  2.603425e+07",
      "text/html": "<div>\n<style scoped>\n    .dataframe tbody tr th:only-of-type {\n        vertical-align: middle;\n    }\n\n    .dataframe tbody tr th {\n        vertical-align: top;\n    }\n\n    .dataframe thead th {\n        text-align: right;\n    }\n</style>\n<table border=\"1\" class=\"dataframe\">\n  <thead>\n    <tr style=\"text-align: right;\">\n      <th></th>\n      <th>quantity</th>\n    </tr>\n  </thead>\n  <tbody>\n    <tr>\n      <th>sum</th>\n      <td>2.603425e+07</td>\n    </tr>\n  </tbody>\n</table>\n</div>"
     },
     "execution_count": 22,
     "metadata": {},
     "output_type": "execute_result"
    }
   ],
   "source": [
    "%%time\n",
    "def get_sum_power_consumption_baltic(power_file, year_min, year_max):\n",
    "    power = pd.read_csv(power_file)\n",
    "    return power[(power['country'].str.contains(\"lat|lit|eston\", case=False)) & (power['year'] >= year_min) & (power['year'] <= year_max) & (power['quantity'] >= 0)].agg({'quantity': ['sum']})\n",
    "\n",
    "get_sum_power_consumption_baltic('power.csv', 2005, 2010)"
   ]
  },
  {
   "cell_type": "code",
   "execution_count": 23,
   "metadata": {},
   "outputs": [
    {
     "name": "stdout",
     "output_type": "stream",
     "text": [
      "CPU times: user 460 ms, sys: 93.8 ms, total: 554 ms\n",
      "Wall time: 566 ms\n"
     ]
    },
    {
     "data": {
      "text/plain": "         quantity\nsum  2.603425e+07",
      "text/html": "<div>\n<style scoped>\n    .dataframe tbody tr th:only-of-type {\n        vertical-align: middle;\n    }\n\n    .dataframe tbody tr th {\n        vertical-align: top;\n    }\n\n    .dataframe thead th {\n        text-align: right;\n    }\n</style>\n<table border=\"1\" class=\"dataframe\">\n  <thead>\n    <tr style=\"text-align: right;\">\n      <th></th>\n      <th>quantity</th>\n    </tr>\n  </thead>\n  <tbody>\n    <tr>\n      <th>sum</th>\n      <td>2.603425e+07</td>\n    </tr>\n  </tbody>\n</table>\n</div>"
     },
     "execution_count": 23,
     "metadata": {},
     "output_type": "execute_result"
    }
   ],
   "source": [
    "%%time\n",
    "# another type of filter\n",
    "def get_sum_power_consumption_baltic(power_file, year_min, year_max):\n",
    "    power = pd.read_csv(power_file)\n",
    "    return power[(power['country'].isin(['Latvia', 'Lithuania', 'Estonia'])) & (power['year'] >= year_min) & (power['year'] <= year_max) & (power['quantity'] >= 0)].agg({'quantity': ['sum']})\n",
    "\n",
    "get_sum_power_consumption_baltic('power.csv', 2005, 2010)"
   ]
  },
  {
   "cell_type": "code",
   "execution_count": 24,
   "metadata": {
    "pycharm": {
     "name": "#%%\n"
    }
   },
   "outputs": [
    {
     "name": "stdout",
     "output_type": "stream",
     "text": [
      "CPU times: user 477 ms, sys: 87.8 ms, total: 565 ms\n",
      "Wall time: 579 ms\n"
     ]
    },
    {
     "data": {
      "text/plain": "26034247.620774537"
     },
     "execution_count": 24,
     "metadata": {},
     "output_type": "execute_result"
    }
   ],
   "source": [
    "%%time\n",
    "# another type of aggragation\n",
    "def get_sum_power_consumption_baltic(power_file, year_min, year_max):\n",
    "    power = pd.read_csv(power_file)\n",
    "    return power[(power['country'].isin(['Latvia', 'Lithuania', 'Estonia'])) & (power['year'] >= year_min) & (power['year'] <= year_max) & (power['quantity'] >= 0)]['quantity'].sum()\n",
    "\n",
    "get_sum_power_consumption_baltic('power.csv', 2005, 2010)"
   ]
  },
  {
   "cell_type": "code",
   "execution_count": 25,
   "metadata": {
    "pycharm": {
     "name": "#%%\n"
    }
   },
   "outputs": [],
   "source": [
    "# Задание 3 Выберите страницу любого сайта с табличными данными. Импортируйте таблицы в pandas dataframe.\n",
    "# Примеры страниц (необязательно брать именно эти):\n",
    "# https://fortrader.org/quotes\n",
    "# https://www.finanz.ru/valyuty/v-realnom-vremeni"
   ]
  },
  {
   "cell_type": "code",
   "execution_count": 26,
   "metadata": {
    "pycharm": {
     "name": "#%%\n"
    }
   },
   "outputs": [
    {
     "data": {
      "text/plain": "                   Type Mutability  \\\n0                  bool  immutable   \n1             bytearray    mutable   \n2                 bytes  immutable   \n3               complex  immutable   \n4                  dict    mutable   \n5             ellipsisa  immutable   \n6                 float  immutable   \n7             frozenset  immutable   \n8                   int  immutable   \n9                  list    mutable   \n10            NoneTypea  immutable   \n11  NotImplementedTypea  immutable   \n12                range  immutable   \n13                  set    mutable   \n14                  str  immutable   \n15                tuple  immutable   \n\n                                          Description  \\\n0                                       Boolean value   \n1                                   Sequence of bytes   \n2                                   Sequence of bytes   \n3        Complex number with real and imaginary parts   \n4   Associative array (or dictionary) of key and v...   \n5   An ellipsis placeholder to be used as an index...   \n6   Double precision floating point number. The pr...   \n7   Unordered set, contains no duplicates; can con...   \n8                  Integer of unlimited magnitude[88]   \n9                       List, can contain mixed types   \n10  An object representing the absence of a value,...   \n11  A placeholder that can be returned from overlo...   \n12  A Sequence of numbers commonly used for loopin...   \n13  Unordered set, contains no duplicates; can con...   \n14  A character string: sequence of Unicode codepo...   \n15                            Can contain mixed types   \n\n                                      Syntax examples  \n0                                           TrueFalse  \n1   bytearray(b'Some ASCII')bytearray(b\"Some ASCII...  \n2   b'Some ASCII'b\"Some ASCII\"bytes([119, 105, 107...  \n3                                              3+2.7j  \n4                           {'key1': 1.0, 3: False}{}  \n5                                         ...Ellipsis  \n6                                               1.414  \n7                    frozenset([4.0, 'string', True])  \n8                                                  42  \n9                             [4.0, 'string', True][]  \n10                                               None  \n11                                     NotImplemented  \n12                      range(1, 10)range(10, -5, -2)  \n13                         {4.0, 'string', True}set()  \n14  'Wikipedia'\"Wikipedia\"\"\"\"Spanning multiple lin...  \n15         (4.0, 'string', True)('single element',)()  ",
      "text/html": "<div>\n<style scoped>\n    .dataframe tbody tr th:only-of-type {\n        vertical-align: middle;\n    }\n\n    .dataframe tbody tr th {\n        vertical-align: top;\n    }\n\n    .dataframe thead th {\n        text-align: right;\n    }\n</style>\n<table border=\"1\" class=\"dataframe\">\n  <thead>\n    <tr style=\"text-align: right;\">\n      <th></th>\n      <th>Type</th>\n      <th>Mutability</th>\n      <th>Description</th>\n      <th>Syntax examples</th>\n    </tr>\n  </thead>\n  <tbody>\n    <tr>\n      <th>0</th>\n      <td>bool</td>\n      <td>immutable</td>\n      <td>Boolean value</td>\n      <td>TrueFalse</td>\n    </tr>\n    <tr>\n      <th>1</th>\n      <td>bytearray</td>\n      <td>mutable</td>\n      <td>Sequence of bytes</td>\n      <td>bytearray(b'Some ASCII')bytearray(b\"Some ASCII...</td>\n    </tr>\n    <tr>\n      <th>2</th>\n      <td>bytes</td>\n      <td>immutable</td>\n      <td>Sequence of bytes</td>\n      <td>b'Some ASCII'b\"Some ASCII\"bytes([119, 105, 107...</td>\n    </tr>\n    <tr>\n      <th>3</th>\n      <td>complex</td>\n      <td>immutable</td>\n      <td>Complex number with real and imaginary parts</td>\n      <td>3+2.7j</td>\n    </tr>\n    <tr>\n      <th>4</th>\n      <td>dict</td>\n      <td>mutable</td>\n      <td>Associative array (or dictionary) of key and v...</td>\n      <td>{'key1': 1.0, 3: False}{}</td>\n    </tr>\n    <tr>\n      <th>5</th>\n      <td>ellipsisa</td>\n      <td>immutable</td>\n      <td>An ellipsis placeholder to be used as an index...</td>\n      <td>...Ellipsis</td>\n    </tr>\n    <tr>\n      <th>6</th>\n      <td>float</td>\n      <td>immutable</td>\n      <td>Double precision floating point number. The pr...</td>\n      <td>1.414</td>\n    </tr>\n    <tr>\n      <th>7</th>\n      <td>frozenset</td>\n      <td>immutable</td>\n      <td>Unordered set, contains no duplicates; can con...</td>\n      <td>frozenset([4.0, 'string', True])</td>\n    </tr>\n    <tr>\n      <th>8</th>\n      <td>int</td>\n      <td>immutable</td>\n      <td>Integer of unlimited magnitude[88]</td>\n      <td>42</td>\n    </tr>\n    <tr>\n      <th>9</th>\n      <td>list</td>\n      <td>mutable</td>\n      <td>List, can contain mixed types</td>\n      <td>[4.0, 'string', True][]</td>\n    </tr>\n    <tr>\n      <th>10</th>\n      <td>NoneTypea</td>\n      <td>immutable</td>\n      <td>An object representing the absence of a value,...</td>\n      <td>None</td>\n    </tr>\n    <tr>\n      <th>11</th>\n      <td>NotImplementedTypea</td>\n      <td>immutable</td>\n      <td>A placeholder that can be returned from overlo...</td>\n      <td>NotImplemented</td>\n    </tr>\n    <tr>\n      <th>12</th>\n      <td>range</td>\n      <td>immutable</td>\n      <td>A Sequence of numbers commonly used for loopin...</td>\n      <td>range(1, 10)range(10, -5, -2)</td>\n    </tr>\n    <tr>\n      <th>13</th>\n      <td>set</td>\n      <td>mutable</td>\n      <td>Unordered set, contains no duplicates; can con...</td>\n      <td>{4.0, 'string', True}set()</td>\n    </tr>\n    <tr>\n      <th>14</th>\n      <td>str</td>\n      <td>immutable</td>\n      <td>A character string: sequence of Unicode codepo...</td>\n      <td>'Wikipedia'\"Wikipedia\"\"\"\"Spanning multiple lin...</td>\n    </tr>\n    <tr>\n      <th>15</th>\n      <td>tuple</td>\n      <td>immutable</td>\n      <td>Can contain mixed types</td>\n      <td>(4.0, 'string', True)('single element',)()</td>\n    </tr>\n  </tbody>\n</table>\n</div>"
     },
     "execution_count": 26,
     "metadata": {},
     "output_type": "execute_result"
    }
   ],
   "source": [
    "url = 'https://en.wikipedia.org/wiki/Python_(programming_language)'\n",
    "df = pd.read_html(url, attrs = {'class': 'wikitable'}, encoding='utf-8')\n",
    "df[0]\n"
   ]
  }
 ],
 "metadata": {
  "kernelspec": {
   "display_name": "Python 3",
   "language": "python",
   "name": "python3"
  },
  "language_info": {
   "codemirror_mode": {
    "name": "ipython",
    "version": 3
   },
   "file_extension": ".py",
   "mimetype": "text/x-python",
   "name": "python",
   "nbconvert_exporter": "python",
   "pygments_lexer": "ipython3",
   "version": "3.8.5"
  }
 },
 "nbformat": 4,
 "nbformat_minor": 4
}